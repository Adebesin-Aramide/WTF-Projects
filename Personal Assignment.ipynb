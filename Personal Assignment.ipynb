{
 "cells": [
  {
   "cell_type": "markdown",
   "id": "f3639a57",
   "metadata": {},
   "source": [
    "### 1. Print all elements of a list using for loop"
   ]
  },
  {
   "cell_type": "code",
   "execution_count": 1,
   "id": "bce3b45a",
   "metadata": {},
   "outputs": [
    {
     "name": "stdout",
     "output_type": "stream",
     "text": [
      "Apple\n",
      "Mango\n",
      "Pineapple\n",
      "Orange\n"
     ]
    }
   ],
   "source": [
    "a_list = [\"Apple\", \"Mango\", \"Pineapple\", \"Orange\"]\n",
    "for i in a_list:\n",
    "    print(i)"
   ]
  },
  {
   "cell_type": "markdown",
   "id": "b9f26cf8",
   "metadata": {},
   "source": [
    "### 2. A company decided to give bonus of 5% to employee if his/her year of service is more than 5 years. Ask user for their salary and year of service and print the net bonus amount.¶"
   ]
  },
  {
   "cell_type": "code",
   "execution_count": 6,
   "id": "17fbe05b",
   "metadata": {},
   "outputs": [
    {
     "name": "stdout",
     "output_type": "stream",
     "text": [
      "Enter year of service: 3\n",
      "Enter your salary: 50000\n",
      "You are not due for a bonus\n"
     ]
    }
   ],
   "source": [
    "year_of_service = int(input(\"Enter year of service: \"))\n",
    "salary = int(input(\"Enter your salary: \"))\n",
    "if year_of_service > 5:\n",
    "    bonus = int(0.05 * salary)\n",
    "    print(\"You earned a bonus of\", bonus)\n",
    "else:\n",
    "    print(\"You are not due for a bonus\")\n",
    "    "
   ]
  },
  {
   "cell_type": "markdown",
   "id": "877d562b",
   "metadata": {},
   "source": [
    "### 3. Take input of age of 3 people by user and determine oldest and youngest among them"
   ]
  },
  {
   "cell_type": "code",
   "execution_count": 33,
   "id": "fa657561",
   "metadata": {},
   "outputs": [
    {
     "name": "stdout",
     "output_type": "stream",
     "text": [
      "Enter your age User1: 35\n",
      "Enter your age User2: 70\n",
      "Enter your age User3: 34\n",
      "User2 is the oldest\n",
      "User3 is the youngest\n"
     ]
    }
   ],
   "source": [
    "user1 = int(input(\"Enter your age User1: \"))\n",
    "user2 = int(input(\"Enter your age User2: \"))\n",
    "user3 = int(input(\"Enter your age User3: \"))\n",
    "if (user1 > user2) and (user1 > 3):\n",
    "    print(\"User1 is the oldest\")\n",
    "    if (user2 > user3):\n",
    "        print(\"User3 is the youngest\")\n",
    "    else:\n",
    "        print(\"User2 is the youngest\")\n",
    "elif(user2 > user1) and (user2 > user3):\n",
    "    print (\"User2 is the oldest\")\n",
    "    if (user1 > user3):\n",
    "        print(\"User3 is the youngest\")\n",
    "    else:\n",
    "        print(\"User1 is the youngest\")\n",
    "else:\n",
    "    print(\"User3 is the oldest\")\n",
    "    if (user1 > user2):\n",
    "        print(\"User2 is the youngest\")\n",
    "    else:\n",
    "        print(\"User1 is the youngest\")"
   ]
  },
  {
   "cell_type": "markdown",
   "id": "4aefb2e6",
   "metadata": {},
   "source": [
    "### 4. A school has following rules for grading system:\n",
    "a. Below 25 - F\n",
    "b. 25 to 45 - E\n",
    "c. 45 to 50 - D\n",
    "d. 50 to 60 - C\n",
    "e. 60 to 80 - B\n",
    "f. Above 80 - A\n"
   ]
  },
  {
   "cell_type": "code",
   "execution_count": 34,
   "id": "a934539c",
   "metadata": {},
   "outputs": [
    {
     "name": "stdout",
     "output_type": "stream",
     "text": [
      "Enter your mark: 45\n",
      "Your grade is D\n"
     ]
    }
   ],
   "source": [
    "A = 80\n",
    "B = 60\n",
    "C = 50\n",
    "D = 45\n",
    "E = 25\n",
    "F = \"less than 25\"\n",
    "grade = int(input(\"Enter your mark: \"))\n",
    "if grade >= A:\n",
    "    print(\"Your grade is A\")\n",
    "elif (grade >= B) and (grade < A):\n",
    "    print(\"Your grade is B\")\n",
    "elif (grade >= C) and (grade <B):\n",
    "    print(\"Your grade is C\")\n",
    "elif (grade >=D) and (grade < C):\n",
    "    print(\"Your grade is D\")\n",
    "elif (grade >= 25) and (grade < D):\n",
    "    print(\"Your grade is E\") \n",
    "elif grade < E:\n",
    "    print(\"Your grade is F\")\n",
    "else:\n",
    "    print(\"You didn't write the exam\")\n",
    "                    "
   ]
  },
  {
   "cell_type": "markdown",
   "id": "d464d6bc",
   "metadata": {},
   "source": [
    "### 6. Write a Python script to merge two Python dictionaries"
   ]
  },
  {
   "cell_type": "code",
   "execution_count": 19,
   "id": "b86847bf",
   "metadata": {},
   "outputs": [
    {
     "name": "stdout",
     "output_type": "stream",
     "text": [
      "{'Aramide': 'OAU', 'Level': 200, 'Food': 'Rice and beans', 'Helen': 'FUTA', 'Course': 'Mathematics', 'Color': 'Blue'}\n"
     ]
    }
   ],
   "source": [
    "dict_1 = {\"Aramide\": \"OAU\", \"Level\": 200, \"Food\": \"Rice and beans\"}\n",
    "dict_2 = {\"Helen\": \"FUTA\", \"Course\": \"Mathematics\", \"Color\": \"Blue\"}\n",
    "new_dict = dict_1.copy()\n",
    "new_dict.update(dict_2)\n",
    "print(new_dict)"
   ]
  },
  {
   "cell_type": "markdown",
   "id": "80ed7ed3",
   "metadata": {},
   "source": [
    "### 7. Write a python program to get the largest number from a list"
   ]
  },
  {
   "cell_type": "code",
   "execution_count": 37,
   "id": "b8630980",
   "metadata": {},
   "outputs": [
    {
     "name": "stdout",
     "output_type": "stream",
     "text": [
      "1271\n"
     ]
    }
   ],
   "source": [
    "num = [10, 80, 60, 706, 1271, 457, 239, 558]\n",
    "max_num = max(num)\n",
    "print(max_num)"
   ]
  },
  {
   "cell_type": "markdown",
   "id": "6633ed45",
   "metadata": {},
   "source": [
    "### 8. Write a python program to remove a key from a dictionary"
   ]
  },
  {
   "cell_type": "code",
   "execution_count": 29,
   "id": "5adeddbf",
   "metadata": {},
   "outputs": [
    {
     "data": {
      "text/plain": [
       "{'Lagos': 'Ikeja', 'Ondo': 'Akure', 'Osun': 'Osogbo', 'Benue': 'Makurdi'}"
      ]
     },
     "execution_count": 29,
     "metadata": {},
     "output_type": "execute_result"
    }
   ],
   "source": [
    "my_dict = {\"Lagos\": \"Ikeja\", \"Ondo\": \"Akure\", \"Osun\": \"Osogbo\",\"Benue\": \"Makurdi\"}\n",
    "my_dict"
   ]
  },
  {
   "cell_type": "code",
   "execution_count": 30,
   "id": "65333a47",
   "metadata": {},
   "outputs": [
    {
     "data": {
      "text/plain": [
       "'Akure'"
      ]
     },
     "execution_count": 30,
     "metadata": {},
     "output_type": "execute_result"
    }
   ],
   "source": [
    "my_dict.pop(\"Ondo\")"
   ]
  },
  {
   "cell_type": "code",
   "execution_count": 31,
   "id": "a67f7ca3",
   "metadata": {},
   "outputs": [
    {
     "data": {
      "text/plain": [
       "{'Lagos': 'Ikeja', 'Osun': 'Osogbo', 'Benue': 'Makurdi'}"
      ]
     },
     "execution_count": 31,
     "metadata": {},
     "output_type": "execute_result"
    }
   ],
   "source": [
    "my_dict"
   ]
  },
  {
   "cell_type": "code",
   "execution_count": null,
   "id": "d8f94559",
   "metadata": {},
   "outputs": [],
   "source": []
  }
 ],
 "metadata": {
  "kernelspec": {
   "display_name": "Python 3 (ipykernel)",
   "language": "python",
   "name": "python3"
  },
  "language_info": {
   "codemirror_mode": {
    "name": "ipython",
    "version": 3
   },
   "file_extension": ".py",
   "mimetype": "text/x-python",
   "name": "python",
   "nbconvert_exporter": "python",
   "pygments_lexer": "ipython3",
   "version": "3.9.7"
  }
 },
 "nbformat": 4,
 "nbformat_minor": 5
}
