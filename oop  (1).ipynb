{
 "cells": [
  {
   "cell_type": "code",
   "execution_count": null,
   "id": "8c107f53",
   "metadata": {},
   "outputs": [],
   "source": [
    "# in a class there are (class and the properties)"
   ]
  },
  {
   "cell_type": "code",
   "execution_count": 15,
   "id": "ff64fc81",
   "metadata": {},
   "outputs": [],
   "source": [
    "#creating a class \n",
    "class myclass: \n",
    "    x = 5"
   ]
  },
  {
   "cell_type": "code",
   "execution_count": 24,
   "id": "66bc80ee",
   "metadata": {},
   "outputs": [
    {
     "name": "stdout",
     "output_type": "stream",
     "text": [
      "5\n"
     ]
    }
   ],
   "source": [
    "#creating an object \n",
    "#create an object named d2 and print the value of x\n",
    "d2 = myclass()\n",
    "print(d2.x)"
   ]
  },
  {
   "cell_type": "code",
   "execution_count": 26,
   "id": "bfa404b1",
   "metadata": {},
   "outputs": [
    {
     "name": "stdout",
     "output_type": "stream",
     "text": [
      "<class 'str'>\n",
      "<built-in method upper of str object at 0x7fdc6d782f70>\n"
     ]
    }
   ],
   "source": [
    "#methods\n",
    "var = \"Hello Peace\"\n",
    "print(type(var))\n",
    "print(var.upper)"
   ]
  },
  {
   "cell_type": "code",
   "execution_count": 18,
   "id": "6132ff1f",
   "metadata": {},
   "outputs": [],
   "source": [
    "kirk = [\"James kirk\", 34, \"captain\", 2265]\n",
    "spock = [\"spock\", 35, \"science officer\", 2254]\n",
    "mccoy = [\"lenoard mcoy\", \"cheif medical officer\", 2266]"
   ]
  },
  {
   "cell_type": "code",
   "execution_count": 20,
   "id": "08ccf336",
   "metadata": {
    "scrolled": true
   },
   "outputs": [
    {
     "data": {
      "text/plain": [
       "'captain'"
      ]
     },
     "execution_count": 20,
     "metadata": {},
     "output_type": "execute_result"
    }
   ],
   "source": [
    "kirk[2]"
   ]
  },
  {
   "cell_type": "code",
   "execution_count": 56,
   "id": "14e8388e",
   "metadata": {
    "scrolled": true
   },
   "outputs": [
    {
     "name": "stdout",
     "output_type": "stream",
     "text": [
      "Damilola\n",
      "27\n"
     ]
    }
   ],
   "source": [
    "# The _int_ method \n",
    "#create a class named person, use the int function to assign values for name and age\n",
    "\n",
    "class person():\n",
    "    def __init__ (self, name, age): \n",
    "        self.name = name \n",
    "        self.age = age\n",
    "X1 = person(\"Damilola\", 27)\n",
    "\n",
    "print(X1.name)\n",
    "print(X1.age)"
   ]
  },
  {
   "cell_type": "code",
   "execution_count": 54,
   "id": "f10ecfb4",
   "metadata": {},
   "outputs": [
    {
     "name": "stdout",
     "output_type": "stream",
     "text": [
      "Damilola\n",
      "27\n"
     ]
    }
   ],
   "source": [
    "class Person():\n",
    "    def __init__ (self, name, age): \n",
    "        self.name = name \n",
    "        self.age = age\n",
    "X1 = Person(\"Damilola\", 27)\n",
    "\n",
    "print(X1.name)\n",
    "print(X1.age)"
   ]
  },
  {
   "cell_type": "code",
   "execution_count": 59,
   "id": "11664701",
   "metadata": {},
   "outputs": [
    {
     "ename": "TypeError",
     "evalue": "Person() takes no arguments",
     "output_type": "error",
     "traceback": [
      "\u001b[0;31m---------------------------------------------------------------------------\u001b[0m",
      "\u001b[0;31mTypeError\u001b[0m                                 Traceback (most recent call last)",
      "Input \u001b[0;32mIn [59]\u001b[0m, in \u001b[0;36m<cell line: 7>\u001b[0;34m()\u001b[0m\n\u001b[1;32m      5\u001b[0m         \u001b[38;5;28mself\u001b[39m\u001b[38;5;241m.\u001b[39mname \u001b[38;5;241m=\u001b[39m name\n\u001b[1;32m      6\u001b[0m         \u001b[38;5;28mself\u001b[39m\u001b[38;5;241m.\u001b[39mage \u001b[38;5;241m=\u001b[39m age\n\u001b[0;32m----> 7\u001b[0m x1 \u001b[38;5;241m=\u001b[39m \u001b[43mPerson\u001b[49m\u001b[43m(\u001b[49m\u001b[38;5;124;43m\"\u001b[39;49m\u001b[38;5;124;43mDamilola\u001b[39;49m\u001b[38;5;124;43m\"\u001b[39;49m\u001b[43m,\u001b[49m\u001b[43m \u001b[49m\u001b[38;5;241;43m36\u001b[39;49m\u001b[43m)\u001b[49m\n\u001b[1;32m      8\u001b[0m \u001b[38;5;28mprint\u001b[39m(x1)\n",
      "\u001b[0;31mTypeError\u001b[0m: Person() takes no arguments"
     ]
    }
   ],
   "source": [
    "#The __str__ method \n",
    "\n",
    "class Person: \n",
    "    def __int__(self, name, age): \n",
    "        self.name = name\n",
    "        self.age = age\n",
    "x1 = Person(\"Damilola\", 36)\n",
    "print(x1)"
   ]
  },
  {
   "cell_type": "code",
   "execution_count": 66,
   "id": "b63ee37c",
   "metadata": {},
   "outputs": [
    {
     "name": "stdout",
     "output_type": "stream",
     "text": [
      "<__main__.Person object at 0x7fdc6db23070>\n"
     ]
    }
   ],
   "source": [
    "class Person: \n",
    "    def __init__(self, name, age): \n",
    "        self.name = name\n",
    "        self.age = age\n",
    "x1 = Person(\"Damilola\", 36)\n",
    "print(x1)"
   ]
  },
  {
   "cell_type": "code",
   "execution_count": 64,
   "id": "85e10207",
   "metadata": {},
   "outputs": [
    {
     "name": "stdout",
     "output_type": "stream",
     "text": [
      "Damilola\n"
     ]
    }
   ],
   "source": [
    "class Person(): \n",
    "    def __init__(self, name, age): \n",
    "        self.name = name\n",
    "        self.age = age\n",
    "x1 = Person(\"Damilola\", 36)\n",
    "print (x1.name)"
   ]
  },
  {
   "cell_type": "code",
   "execution_count": null,
   "id": "ddb3f447",
   "metadata": {},
   "outputs": [],
   "source": [
    "class Person(): \n",
    "    def __int__(self, name, age): \n",
    "        self.name = name\n",
    "        self.age = age\n",
    "x1 = Person(\"Damilola\", 36)\n",
    "print (x1.name)"
   ]
  },
  {
   "cell_type": "code",
   "execution_count": 51,
   "id": "7a75c94b",
   "metadata": {},
   "outputs": [
    {
     "name": "stdout",
     "output_type": "stream",
     "text": [
      "Mitchelle\n"
     ]
    }
   ],
   "source": [
    "class Person():\n",
    "    def __init__(self, name, age):\n",
    "        self.name= name\n",
    "        self.age = age\n",
    "x1 = Person('Mitchelle', 23)\n",
    "print(x1.name)"
   ]
  },
  {
   "cell_type": "code",
   "execution_count": 68,
   "id": "a6eebadd",
   "metadata": {},
   "outputs": [
    {
     "name": "stdout",
     "output_type": "stream",
     "text": [
      "Hello my name is Damilola\n"
     ]
    }
   ],
   "source": [
    "#self parameter\n",
    "class person():\n",
    "    def __init__ (mynamebox, name, age):\n",
    "        mynamebox.name = name \n",
    "        mynamebox.age = age\n",
    "        \n",
    "    def myfun(abc):\n",
    "        print(\"Hello my name is \" + abc.name)\n",
    "p1 = person(\"Damilola\", 27)\n",
    "p1.myfun()\n"
   ]
  },
  {
   "cell_type": "code",
   "execution_count": null,
   "id": "8c1bb391",
   "metadata": {},
   "outputs": [],
   "source": []
  },
  {
   "cell_type": "code",
   "execution_count": null,
   "id": "a7992833",
   "metadata": {},
   "outputs": [],
   "source": []
  }
 ],
 "metadata": {
  "kernelspec": {
   "display_name": "Python 3 (ipykernel)",
   "language": "python",
   "name": "python3"
  },
  "language_info": {
   "codemirror_mode": {
    "name": "ipython",
    "version": 3
   },
   "file_extension": ".py",
   "mimetype": "text/x-python",
   "name": "python",
   "nbconvert_exporter": "python",
   "pygments_lexer": "ipython3",
   "version": "3.9.12"
  }
 },
 "nbformat": 4,
 "nbformat_minor": 5
}
